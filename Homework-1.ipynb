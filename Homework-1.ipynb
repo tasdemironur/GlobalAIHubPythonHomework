{
 "cells": [
  {
   "cell_type": "code",
   "execution_count": 29,
   "metadata": {},
   "outputs": [
    {
     "name": "stdout",
     "output_type": "stream",
     "text": [
      "Değer giriniz: 5\n",
      "Değer giriniz: 6\n",
      "Değer giriniz: 4\n",
      "Değer giriniz: 3\n",
      "Değer giriniz: 2\n",
      "['5', '6', '4', '3', '2']\n"
     ]
    }
   ],
   "source": [
    "a =[]\n",
    "for i in range(0,5):\n",
    "    x = (input(\"Değer giriniz: \"))\n",
    "    a.append(x)\n",
    "print(a)"
   ]
  },
  {
   "cell_type": "markdown",
   "metadata": {},
   "source": [
    "* **Klavyeden girilen değer string geliyor**"
   ]
  },
  {
   "cell_type": "code",
   "execution_count": 30,
   "metadata": {},
   "outputs": [
    {
     "name": "stdout",
     "output_type": "stream",
     "text": [
      "<class 'str'>\n",
      "<class 'str'>\n",
      "<class 'str'>\n",
      "<class 'str'>\n",
      "<class 'str'>\n"
     ]
    }
   ],
   "source": [
    "for i in a:\n",
    "    print(type(i))"
   ]
  },
  {
   "cell_type": "code",
   "execution_count": 34,
   "metadata": {},
   "outputs": [
    {
     "name": "stdout",
     "output_type": "stream",
     "text": [
      "5 değeri <class 'str'> türündedir\n",
      "6 değeri <class 'str'> türündedir\n",
      "4 değeri <class 'str'> türündedir\n",
      "3 değeri <class 'str'> türündedir\n",
      "2 değeri <class 'str'> türündedir\n"
     ]
    }
   ],
   "source": [
    "for i in a:\n",
    "    print(i, \"değeri {}\".format(type(i)), \"türündedir\")"
   ]
  },
  {
   "cell_type": "code",
   "execution_count": null,
   "metadata": {},
   "outputs": [],
   "source": []
  }
 ],
 "metadata": {
  "kernelspec": {
   "display_name": "Python 3",
   "language": "python",
   "name": "python3"
  },
  "language_info": {
   "codemirror_mode": {
    "name": "ipython",
    "version": 3
   },
   "file_extension": ".py",
   "mimetype": "text/x-python",
   "name": "python",
   "nbconvert_exporter": "python",
   "pygments_lexer": "ipython3",
   "version": "3.8.3"
  }
 },
 "nbformat": 4,
 "nbformat_minor": 4
}
