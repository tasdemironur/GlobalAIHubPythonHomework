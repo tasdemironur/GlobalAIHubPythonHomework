{
 "cells": [
  {
   "cell_type": "code",
   "execution_count": 69,
   "metadata": {},
   "outputs": [
    {
     "name": "stdout",
     "output_type": "stream",
     "text": [
      "First Name: onur\n",
      "Last Name: tasdemir\n",
      "Age: 17\n",
      "Date of Birt: 2003\n"
     ]
    }
   ],
   "source": [
    "a = []\n",
    "\n",
    "\n",
    "fname = input(\"First Name: \")\n",
    "lname = input(\"Last Name: \")\n",
    "age = int(input(\"Age: \"))\n",
    "dofBirth = int(input(\"Date of Birt: \"))\n",
    "a = [fname,lname,age,dofBirth]\n",
    "\n",
    "        "
   ]
  },
  {
   "cell_type": "code",
   "execution_count": 70,
   "metadata": {},
   "outputs": [
    {
     "data": {
      "text/plain": [
       "['onur', 'tasdemir', 17, 2003]"
      ]
     },
     "execution_count": 70,
     "metadata": {},
     "output_type": "execute_result"
    }
   ],
   "source": [
    "a"
   ]
  },
  {
   "cell_type": "code",
   "execution_count": 71,
   "metadata": {},
   "outputs": [
    {
     "name": "stdout",
     "output_type": "stream",
     "text": [
      "onur\n",
      "tasdemir\n",
      "17\n",
      "2003\n"
     ]
    }
   ],
   "source": [
    "for i in a:\n",
    "    print(i)"
   ]
  },
  {
   "cell_type": "code",
   "execution_count": 72,
   "metadata": {},
   "outputs": [
    {
     "name": "stdout",
     "output_type": "stream",
     "text": [
      "You can't go out because it's too dangerous\n"
     ]
    }
   ],
   "source": [
    "if age < 18:\n",
    "    print(\"You can't go out because it's too dangerous\")\n",
    "else:\n",
    "    print(\"You can go out to the street\")"
   ]
  },
  {
   "cell_type": "code",
   "execution_count": null,
   "metadata": {},
   "outputs": [],
   "source": []
  }
 ],
 "metadata": {
  "kernelspec": {
   "display_name": "Python 3",
   "language": "python",
   "name": "python3"
  },
  "language_info": {
   "codemirror_mode": {
    "name": "ipython",
    "version": 3
   },
   "file_extension": ".py",
   "mimetype": "text/x-python",
   "name": "python",
   "nbconvert_exporter": "python",
   "pygments_lexer": "ipython3",
   "version": "3.8.3"
  }
 },
 "nbformat": 4,
 "nbformat_minor": 4
}
